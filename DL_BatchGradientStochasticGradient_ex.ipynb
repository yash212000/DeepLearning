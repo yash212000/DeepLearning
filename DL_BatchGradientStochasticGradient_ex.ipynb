{
 "cells": [
  {
   "cell_type": "code",
   "execution_count": 1,
   "id": "c06ebd0f",
   "metadata": {},
   "outputs": [],
   "source": [
    "import pandas as pd\n",
    "import numpy as np\n",
    "from matplotlib import pyplot as plt\n",
    "%matplotlib inline"
   ]
  },
  {
   "cell_type": "code",
   "execution_count": 2,
   "id": "481894c2",
   "metadata": {},
   "outputs": [
    {
     "data": {
      "text/html": [
       "<div>\n",
       "<style scoped>\n",
       "    .dataframe tbody tr th:only-of-type {\n",
       "        vertical-align: middle;\n",
       "    }\n",
       "\n",
       "    .dataframe tbody tr th {\n",
       "        vertical-align: top;\n",
       "    }\n",
       "\n",
       "    .dataframe thead th {\n",
       "        text-align: right;\n",
       "    }\n",
       "</style>\n",
       "<table border=\"1\" class=\"dataframe\">\n",
       "  <thead>\n",
       "    <tr style=\"text-align: right;\">\n",
       "      <th></th>\n",
       "      <th>area</th>\n",
       "      <th>bedrooms</th>\n",
       "      <th>price</th>\n",
       "    </tr>\n",
       "  </thead>\n",
       "  <tbody>\n",
       "    <tr>\n",
       "      <th>1</th>\n",
       "      <td>2600</td>\n",
       "      <td>4</td>\n",
       "      <td>120.0</td>\n",
       "    </tr>\n",
       "    <tr>\n",
       "      <th>10</th>\n",
       "      <td>1800</td>\n",
       "      <td>3</td>\n",
       "      <td>82.0</td>\n",
       "    </tr>\n",
       "    <tr>\n",
       "      <th>5</th>\n",
       "      <td>1170</td>\n",
       "      <td>2</td>\n",
       "      <td>38.0</td>\n",
       "    </tr>\n",
       "    <tr>\n",
       "      <th>19</th>\n",
       "      <td>800</td>\n",
       "      <td>1</td>\n",
       "      <td>32.0</td>\n",
       "    </tr>\n",
       "    <tr>\n",
       "      <th>7</th>\n",
       "      <td>3300</td>\n",
       "      <td>4</td>\n",
       "      <td>155.0</td>\n",
       "    </tr>\n",
       "  </tbody>\n",
       "</table>\n",
       "</div>"
      ],
      "text/plain": [
       "    area  bedrooms  price\n",
       "1   2600         4  120.0\n",
       "10  1800         3   82.0\n",
       "5   1170         2   38.0\n",
       "19   800         1   32.0\n",
       "7   3300         4  155.0"
      ]
     },
     "execution_count": 2,
     "metadata": {},
     "output_type": "execute_result"
    }
   ],
   "source": [
    "df = pd.read_csv(\"F:\\\\homeprices_banglore.csv\")\n",
    "df.sample(5)"
   ]
  },
  {
   "cell_type": "code",
   "execution_count": 3,
   "id": "be15cd62",
   "metadata": {},
   "outputs": [
    {
     "data": {
      "text/plain": [
       "array([[0.08827586, 0.25      ],\n",
       "       [0.62068966, 0.75      ],\n",
       "       [0.22068966, 0.5       ],\n",
       "       [0.24862069, 0.5       ],\n",
       "       [0.13793103, 0.25      ],\n",
       "       [0.12758621, 0.25      ],\n",
       "       [0.6662069 , 0.75      ],\n",
       "       [0.86206897, 0.75      ],\n",
       "       [0.17586207, 0.5       ],\n",
       "       [1.        , 1.        ],\n",
       "       [0.34482759, 0.5       ],\n",
       "       [0.68448276, 0.75      ],\n",
       "       [0.06896552, 0.25      ],\n",
       "       [0.10344828, 0.25      ],\n",
       "       [0.5       , 0.5       ],\n",
       "       [0.12931034, 0.25      ],\n",
       "       [0.13103448, 0.5       ],\n",
       "       [0.25517241, 0.5       ],\n",
       "       [0.67931034, 0.5       ],\n",
       "       [0.        , 0.        ]])"
      ]
     },
     "execution_count": 3,
     "metadata": {},
     "output_type": "execute_result"
    }
   ],
   "source": [
    "from sklearn import preprocessing\n",
    "sx = preprocessing.MinMaxScaler()\n",
    "sy = preprocessing.MinMaxScaler()\n",
    "\n",
    "scaled_X = sx.fit_transform(df.drop('price',axis='columns'))\n",
    "scaled_y = sy.fit_transform(df['price'].values.reshape(df.shape[0],1))\n",
    "\n",
    "scaled_X"
   ]
  },
  {
   "cell_type": "code",
   "execution_count": 4,
   "id": "e0d9b7b6",
   "metadata": {},
   "outputs": [
    {
     "data": {
      "text/plain": [
       "array([[0.05237037],\n",
       "       [0.65185185],\n",
       "       [0.22222222],\n",
       "       [0.31851852],\n",
       "       [0.14074074],\n",
       "       [0.04444444],\n",
       "       [0.76296296],\n",
       "       [0.91111111],\n",
       "       [0.13333333],\n",
       "       [1.        ],\n",
       "       [0.37037037],\n",
       "       [0.8       ],\n",
       "       [0.04444444],\n",
       "       [0.05925926],\n",
       "       [0.51111111],\n",
       "       [0.07407407],\n",
       "       [0.11851852],\n",
       "       [0.20740741],\n",
       "       [0.51851852],\n",
       "       [0.        ]])"
      ]
     },
     "execution_count": 4,
     "metadata": {},
     "output_type": "execute_result"
    }
   ],
   "source": [
    "scaled_y"
   ]
  },
  {
   "cell_type": "code",
   "execution_count": 5,
   "id": "cbf7b5ab",
   "metadata": {},
   "outputs": [],
   "source": [
    "scaled_y=scaled_y.reshape(1,20)"
   ]
  },
  {
   "cell_type": "code",
   "execution_count": 6,
   "id": "35e0796f",
   "metadata": {},
   "outputs": [
    {
     "data": {
      "text/plain": [
       "array([[0.05237037, 0.65185185, 0.22222222, 0.31851852, 0.14074074,\n",
       "        0.04444444, 0.76296296, 0.91111111, 0.13333333, 1.        ,\n",
       "        0.37037037, 0.8       , 0.04444444, 0.05925926, 0.51111111,\n",
       "        0.07407407, 0.11851852, 0.20740741, 0.51851852, 0.        ]])"
      ]
     },
     "execution_count": 6,
     "metadata": {},
     "output_type": "execute_result"
    }
   ],
   "source": [
    "scaled_y"
   ]
  },
  {
   "cell_type": "code",
   "execution_count": null,
   "id": "e2057760",
   "metadata": {},
   "outputs": [],
   "source": [
    "\n"
   ]
  },
  {
   "cell_type": "code",
   "execution_count": 7,
   "id": "18c47037",
   "metadata": {},
   "outputs": [
    {
     "name": "stdout",
     "output_type": "stream",
     "text": [
      "hiiiiiiiiiiiiiiiii\n",
      "0\n",
      "hiiiiiiiiiiiiiiiii\n",
      "1\n",
      "hiiiiiiiiiiiiiiiii\n",
      "2\n",
      "hiiiiiiiiiiiiiiiii\n",
      "3\n",
      "hiiiiiiiiiiiiiiiii\n",
      "4\n",
      "hiiiiiiiiiiiiiiiii\n",
      "5\n",
      "hiiiiiiiiiiiiiiiii\n",
      "6\n",
      "hiiiiiiiiiiiiiiiii\n",
      "7\n",
      "hiiiiiiiiiiiiiiiii\n",
      "8\n",
      "hiiiiiiiiiiiiiiiii\n",
      "9\n",
      "hiiiiiiiiiiiiiiiii\n",
      "10\n",
      "hiiiiiiiiiiiiiiiii\n",
      "11\n",
      "hiiiiiiiiiiiiiiiii\n",
      "12\n",
      "hiiiiiiiiiiiiiiiii\n",
      "13\n",
      "hiiiiiiiiiiiiiiiii\n",
      "14\n",
      "hiiiiiiiiiiiiiiiii\n",
      "15\n",
      "hiiiiiiiiiiiiiiiii\n",
      "16\n",
      "hiiiiiiiiiiiiiiiii\n",
      "17\n",
      "hiiiiiiiiiiiiiiiii\n",
      "18\n",
      "hiiiiiiiiiiiiiiiii\n",
      "19\n",
      "hiiiiiiiiiiiiiiiii\n",
      "20\n",
      "hiiiiiiiiiiiiiiiii\n",
      "21\n",
      "hiiiiiiiiiiiiiiiii\n",
      "22\n",
      "hiiiiiiiiiiiiiiiii\n",
      "23\n",
      "hiiiiiiiiiiiiiiiii\n",
      "24\n",
      "hiiiiiiiiiiiiiiiii\n",
      "25\n",
      "hiiiiiiiiiiiiiiiii\n",
      "26\n",
      "hiiiiiiiiiiiiiiiii\n",
      "27\n",
      "hiiiiiiiiiiiiiiiii\n",
      "28\n",
      "hiiiiiiiiiiiiiiiii\n",
      "29\n",
      "hiiiiiiiiiiiiiiiii\n",
      "30\n",
      "hiiiiiiiiiiiiiiiii\n",
      "31\n",
      "hiiiiiiiiiiiiiiiii\n",
      "32\n",
      "hiiiiiiiiiiiiiiiii\n",
      "33\n",
      "hiiiiiiiiiiiiiiiii\n",
      "34\n",
      "hiiiiiiiiiiiiiiiii\n",
      "35\n",
      "hiiiiiiiiiiiiiiiii\n",
      "36\n",
      "hiiiiiiiiiiiiiiiii\n",
      "37\n",
      "hiiiiiiiiiiiiiiiii\n",
      "38\n",
      "hiiiiiiiiiiiiiiiii\n",
      "39\n",
      "hiiiiiiiiiiiiiiiii\n",
      "40\n",
      "hiiiiiiiiiiiiiiiii\n",
      "41\n",
      "hiiiiiiiiiiiiiiiii\n",
      "42\n",
      "hiiiiiiiiiiiiiiiii\n",
      "43\n",
      "hiiiiiiiiiiiiiiiii\n",
      "44\n",
      "hiiiiiiiiiiiiiiiii\n",
      "45\n",
      "hiiiiiiiiiiiiiiiii\n",
      "46\n",
      "hiiiiiiiiiiiiiiiii\n",
      "47\n",
      "hiiiiiiiiiiiiiiiii\n",
      "48\n",
      "hiiiiiiiiiiiiiiiii\n",
      "49\n",
      "hiiiiiiiiiiiiiiiii\n",
      "50\n",
      "hiiiiiiiiiiiiiiiii\n",
      "51\n",
      "hiiiiiiiiiiiiiiiii\n",
      "52\n",
      "hiiiiiiiiiiiiiiiii\n",
      "53\n",
      "hiiiiiiiiiiiiiiiii\n",
      "54\n",
      "hiiiiiiiiiiiiiiiii\n",
      "55\n",
      "hiiiiiiiiiiiiiiiii\n",
      "56\n",
      "hiiiiiiiiiiiiiiiii\n",
      "57\n",
      "hiiiiiiiiiiiiiiiii\n",
      "58\n",
      "hiiiiiiiiiiiiiiiii\n",
      "59\n",
      "hiiiiiiiiiiiiiiiii\n",
      "60\n",
      "hiiiiiiiiiiiiiiiii\n",
      "61\n",
      "hiiiiiiiiiiiiiiiii\n",
      "62\n",
      "hiiiiiiiiiiiiiiiii\n",
      "63\n",
      "hiiiiiiiiiiiiiiiii\n",
      "64\n",
      "hiiiiiiiiiiiiiiiii\n",
      "65\n",
      "hiiiiiiiiiiiiiiiii\n",
      "66\n",
      "hiiiiiiiiiiiiiiiii\n",
      "67\n",
      "hiiiiiiiiiiiiiiiii\n",
      "68\n",
      "hiiiiiiiiiiiiiiiii\n",
      "69\n",
      "hiiiiiiiiiiiiiiiii\n",
      "70\n",
      "hiiiiiiiiiiiiiiiii\n",
      "71\n",
      "hiiiiiiiiiiiiiiiii\n",
      "72\n",
      "hiiiiiiiiiiiiiiiii\n",
      "73\n",
      "hiiiiiiiiiiiiiiiii\n",
      "74\n",
      "hiiiiiiiiiiiiiiiii\n",
      "75\n",
      "hiiiiiiiiiiiiiiiii\n",
      "76\n",
      "hiiiiiiiiiiiiiiiii\n",
      "77\n",
      "hiiiiiiiiiiiiiiiii\n",
      "78\n",
      "hiiiiiiiiiiiiiiiii\n",
      "79\n",
      "hiiiiiiiiiiiiiiiii\n",
      "80\n",
      "hiiiiiiiiiiiiiiiii\n",
      "81\n",
      "hiiiiiiiiiiiiiiiii\n",
      "82\n",
      "hiiiiiiiiiiiiiiiii\n",
      "83\n",
      "hiiiiiiiiiiiiiiiii\n",
      "84\n",
      "hiiiiiiiiiiiiiiiii\n",
      "85\n",
      "hiiiiiiiiiiiiiiiii\n",
      "86\n",
      "hiiiiiiiiiiiiiiiii\n",
      "87\n",
      "hiiiiiiiiiiiiiiiii\n",
      "88\n",
      "hiiiiiiiiiiiiiiiii\n",
      "89\n",
      "hiiiiiiiiiiiiiiiii\n",
      "90\n",
      "hiiiiiiiiiiiiiiiii\n",
      "91\n",
      "hiiiiiiiiiiiiiiiii\n",
      "92\n",
      "hiiiiiiiiiiiiiiiii\n",
      "93\n",
      "hiiiiiiiiiiiiiiiii\n",
      "94\n",
      "hiiiiiiiiiiiiiiiii\n",
      "95\n",
      "hiiiiiiiiiiiiiiiii\n",
      "96\n",
      "hiiiiiiiiiiiiiiiii\n",
      "97\n",
      "hiiiiiiiiiiiiiiiii\n",
      "98\n",
      "hiiiiiiiiiiiiiiiii\n",
      "99\n",
      "hiiiiiiiiiiiiiiiii\n",
      "100\n",
      "hiiiiiiiiiiiiiiiii\n",
      "101\n",
      "hiiiiiiiiiiiiiiiii\n",
      "102\n",
      "hiiiiiiiiiiiiiiiii\n",
      "103\n",
      "hiiiiiiiiiiiiiiiii\n",
      "104\n",
      "hiiiiiiiiiiiiiiiii\n",
      "105\n",
      "hiiiiiiiiiiiiiiiii\n",
      "106\n",
      "hiiiiiiiiiiiiiiiii\n",
      "107\n",
      "hiiiiiiiiiiiiiiiii\n",
      "108\n",
      "hiiiiiiiiiiiiiiiii\n",
      "109\n",
      "hiiiiiiiiiiiiiiiii\n",
      "110\n",
      "hiiiiiiiiiiiiiiiii\n",
      "111\n",
      "hiiiiiiiiiiiiiiiii\n",
      "112\n",
      "hiiiiiiiiiiiiiiiii\n",
      "113\n",
      "hiiiiiiiiiiiiiiiii\n",
      "114\n",
      "hiiiiiiiiiiiiiiiii\n",
      "115\n",
      "hiiiiiiiiiiiiiiiii\n",
      "116\n",
      "hiiiiiiiiiiiiiiiii\n",
      "117\n",
      "hiiiiiiiiiiiiiiiii\n",
      "118\n",
      "hiiiiiiiiiiiiiiiii\n",
      "119\n"
     ]
    },
    {
     "data": {
      "text/plain": [
       "(array([[0.80866182, 0.77657351]]), -0.30553842324506336, 0.01439531640098439)"
      ]
     },
     "execution_count": 7,
     "metadata": {},
     "output_type": "execute_result"
    }
   ],
   "source": [
    "import random\n",
    "def mini_gradient_descent(X, y_true, epochs, learning_rate = 0.01):\n",
    "\n",
    "    number_of_features = X.shape[1]\n",
    "    # numpy array with 1 row and columns equal to number of features. In \n",
    "    # our case number_of_features = 2 (area, bedroom)\n",
    "    w = np.ones(shape=(number_of_features)) \n",
    "    b = 0\n",
    "    total_samples = X.shape[0] # number of rows in X\n",
    "    \n",
    "    cost_list_mini = []\n",
    "    epoch_list_mini = []\n",
    "    \n",
    "    for i in range(epochs):\n",
    "        sample_x=np.ones((5,2))\n",
    "        sample_y=np.ones((1,5))\n",
    "        for k in range(0,5):\n",
    "            n = random.randint(0,total_samples-1)\n",
    "#             randomlist.append(n)\n",
    "            sample_x[k]=X[n]\n",
    "            sample_y[0][k]=y_true[0][n]\n",
    "        y_predicted = np.dot(w, X.T) + b\n",
    "        w_grad = -(2/total_samples)*np.dot(y_true-y_predicted,X)\n",
    "        b_grad = -(2/total_samples)*np.sum(y_true-y_predicted)\n",
    "        print('hiiiiiiiiiiiiiiiii')\n",
    "        w = w - learning_rate * w_grad\n",
    "        b = b - learning_rate * b_grad\n",
    "        \n",
    "        cost = np.mean(np.square(y_true-y_predicted)) # MSE (Mean Squared Error)\n",
    "        print(i)\n",
    "        if i%10==0:\n",
    "            cost_list_mini.append(cost)\n",
    "            epoch_list_mini.append(i)\n",
    "        \n",
    "    return w, b, cost, cost_list_mini, epoch_list_mini\n",
    "\n",
    "w1, b1, cost1, cost_list_min, epoch_list_min = mini_gradient_descent(scaled_X,scaled_y,120)\n",
    "w1, b1, cost1"
   ]
  },
  {
   "cell_type": "code",
   "execution_count": 8,
   "id": "49dcc543",
   "metadata": {},
   "outputs": [
    {
     "data": {
      "text/plain": [
       "[<matplotlib.lines.Line2D at 0x25491e691e0>]"
      ]
     },
     "execution_count": 8,
     "metadata": {},
     "output_type": "execute_result"
    },
    {
     "data": {
      "image/png": "[encoded data removed]",
      "text/plain": [
       "<Figure size 432x288 with 1 Axes>"
      ]
     },
     "metadata": {
      "needs_background": "light"
     },
     "output_type": "display_data"
    }
   ],
   "source": [
    "plt.xlabel(\"epoch\")\n",
    "plt.ylabel(\"cost\")\n",
    "plt.plot(epoch_list_min,cost_list_min)"
   ]
  },
  {
   "cell_type": "code",
   "execution_count": 9,
   "id": "9e3ba25e",
   "metadata": {},
   "outputs": [
    {
     "data": {
      "text/plain": [
       "[0, 10, 20, 30, 40, 50, 60, 70, 80, 90, 100, 110]"
      ]
     },
     "execution_count": 9,
     "metadata": {},
     "output_type": "execute_result"
    }
   ],
   "source": [
    "epoch_list_min"
   ]
  },
  {
   "cell_type": "code",
   "execution_count": null,
   "id": "7673f190",
   "metadata": {},
   "outputs": [],
   "source": []
  }
 ],
 "metadata": {
  "kernelspec": {
   "display_name": "Python 3 (ipykernel)",
   "language": "python",
   "name": "python3"
  },
  "language_info": {
   "codemirror_mode": {
    "name": "ipython",
    "version": 3
   },
   "file_extension": ".py",
   "mimetype": "text/x-python",
   "name": "python",
   "nbconvert_exporter": "python",
   "pygments_lexer": "ipython3",
   "version": "3.10.4"
  }
 },
 "nbformat": 4,
 "nbformat_minor": 5
}
