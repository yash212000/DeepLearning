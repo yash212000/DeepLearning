{
 "cells": [
  {
   "cell_type": "code",
   "execution_count": 17,
   "id": "6fe795a3",
   "metadata": {},
   "outputs": [],
   "source": [
    "import tensorflow as tf\n",
    "from tensorflow.keras import datasets, layers, models\n",
    "import matplotlib.pyplot as plt\n",
    "import numpy as np"
   ]
  },
  {
   "cell_type": "code",
   "execution_count": 40,
   "id": "e45885c0",
   "metadata": {},
   "outputs": [
    {
     "data": {
      "text/plain": [
       "(50000, 32, 32, 3)"
      ]
     },
     "execution_count": 40,
     "metadata": {},
     "output_type": "execute_result"
    }
   ],
   "source": [
    "(X_train, y_train), (X_test,y_test) = datasets.cifar10.load_data()\n",
    "X_train.shape"
   ]
  },
  {
   "cell_type": "code",
   "execution_count": 42,
   "id": "6aeaa198",
   "metadata": {},
   "outputs": [],
   "source": [
    "classes= [\"airplane\",\"automobile\",\"bird\",\"cat\",\"deer\",\"dog\",\"frog\",\"horse\",\"ship\",\"truck\"]"
   ]
  },
  {
   "cell_type": "code",
   "execution_count": 70,
   "id": "3d27eb1f",
   "metadata": {},
   "outputs": [],
   "source": [
    "def plot_sample(X,y,index):\n",
    "  \n",
    "  plt.imshow(X[index])\n",
    "  plt.xlabel(classes[y[index]])"
   ]
  },
  {
   "cell_type": "code",
   "execution_count": 45,
   "id": "e1f71d00",
   "metadata": {},
   "outputs": [
    {
     "data": {
      "text/plain": [
       "array([6, 9, 9, ..., 9, 1, 1], dtype=uint8)"
      ]
     },
     "execution_count": 45,
     "metadata": {},
     "output_type": "execute_result"
    }
   ],
   "source": [
    "y_train=y_train.reshape(-1,)\n",
    "y_train"
   ]
  },
  {
   "cell_type": "code",
   "execution_count": 46,
   "id": "ea5ff325",
   "metadata": {},
   "outputs": [
    {
     "data": {
      "image/png": "[encoded data removed]",
      "text/plain": [
       "<Figure size 432x288 with 1 Axes>"
      ]
     },
     "metadata": {
      "needs_background": "light"
     },
     "output_type": "display_data"
    }
   ],
   "source": [
    "plot_sample(X_train,y_train,0)"
   ]
  },
  {
   "cell_type": "code",
   "execution_count": 47,
   "id": "27fd441d",
   "metadata": {},
   "outputs": [],
   "source": [
    "X_train=X_train/255\n",
    "X_test=X_test/255"
   ]
  },
  {
   "cell_type": "code",
   "execution_count": null,
   "id": "86f307b3",
   "metadata": {},
   "outputs": [],
   "source": [
    "# ann=models.Sequential([\n",
    "#     layers.Flatten(input_shape=(32,32,3)),\n",
    "#     layers.Dense(3000,activation='relu'),\n",
    "#     layers.Dense(3000,activation='relu'),\n",
    "#     layers.Dense(10,activation='sigmoid')\n",
    "# ]\n",
    "# )\n",
    "# ann.compile(\n",
    "#     optimizer='SGD',\n",
    "#     loss='sparse_categorical_crossentropy',\n",
    "#     metrics=['accuracy'])\n",
    "\n",
    "# ann.fit(X_train,y_train,epochs=5)"
   ]
  },
  {
   "cell_type": "code",
   "execution_count": 48,
   "id": "1528bbeb",
   "metadata": {},
   "outputs": [],
   "source": [
    "cnn1=models.Sequential([\n",
    "    layers.Conv2D(filters=32,kernel_size=(3,3),activation='relu',input_shape=(32,32,3)),\n",
    "    layers.MaxPooling2D((2,2)),\n",
    "    layers.Conv2D(filters=64,kernel_size=(3,3),activation='relu'),\n",
    "    layers.MaxPooling2D((2,2)),\n",
    "    \n",
    "    layers.Flatten(),\n",
    "    layers.Dense(64,activation='relu'),\n",
    "    layers.Dense(10,activation='softmax')\n",
    "    ])"
   ]
  },
  {
   "cell_type": "code",
   "execution_count": 49,
   "id": "12482996",
   "metadata": {},
   "outputs": [],
   "source": [
    "cnn1.compile(optimizer='adam',\n",
    "              loss='sparse_categorical_crossentropy',\n",
    "              metrics=['accuracy'])"
   ]
  },
  {
   "cell_type": "code",
   "execution_count": 50,
   "id": "158bd6d2",
   "metadata": {},
   "outputs": [
    {
     "name": "stdout",
     "output_type": "stream",
     "text": [
      "Epoch 1/10\n",
      "1563/1563 [==============================] - 45s 27ms/step - loss: 1.4412 - accuracy: 0.4836\n",
      "Epoch 2/10\n",
      "1563/1563 [==============================] - 50s 32ms/step - loss: 1.0749 - accuracy: 0.6248\n",
      "Epoch 3/10\n",
      "1563/1563 [==============================] - 47s 30ms/step - loss: 0.9573 - accuracy: 0.6676\n",
      "Epoch 4/10\n",
      "1563/1563 [==============================] - 47s 30ms/step - loss: 0.8690 - accuracy: 0.6980\n",
      "Epoch 5/10\n",
      "1563/1563 [==============================] - 45s 29ms/step - loss: 0.8001 - accuracy: 0.7213\n",
      "Epoch 6/10\n",
      "1563/1563 [==============================] - 45s 29ms/step - loss: 0.7449 - accuracy: 0.7420\n",
      "Epoch 7/10\n",
      "1563/1563 [==============================] - 48s 31ms/step - loss: 0.6947 - accuracy: 0.7599\n",
      "Epoch 8/10\n",
      "1563/1563 [==============================] - 44s 28ms/step - loss: 0.6469 - accuracy: 0.7757\n",
      "Epoch 9/10\n",
      "1563/1563 [==============================] - 43s 28ms/step - loss: 0.6071 - accuracy: 0.7886\n",
      "Epoch 10/10\n",
      "1563/1563 [==============================] - 43s 27ms/step - loss: 0.5703 - accuracy: 0.8000\n"
     ]
    },
    {
     "data": {
      "text/plain": [
       "<keras.callbacks.History at 0x15ae6c249a0>"
      ]
     },
     "execution_count": 50,
     "metadata": {},
     "output_type": "execute_result"
    }
   ],
   "source": [
    "cnn1.fit(X_train, y_train, epochs=10)"
   ]
  },
  {
   "cell_type": "code",
   "execution_count": 51,
   "id": "6f48ed77",
   "metadata": {},
   "outputs": [
    {
     "name": "stdout",
     "output_type": "stream",
     "text": [
      "313/313 [==============================] - 3s 8ms/step - loss: 0.9230 - accuracy: 0.7041\n"
     ]
    },
    {
     "data": {
      "text/plain": [
       "[0.9229913353919983, 0.7041000127792358]"
      ]
     },
     "execution_count": 51,
     "metadata": {},
     "output_type": "execute_result"
    }
   ],
   "source": [
    "cnn1.evaluate(X_test,y_test)"
   ]
  },
  {
   "cell_type": "code",
   "execution_count": 52,
   "id": "5a21f1b0",
   "metadata": {},
   "outputs": [
    {
     "name": "stdout",
     "output_type": "stream",
     "text": [
      "1/1 [==============================] - 0s 70ms/step\n"
     ]
    },
    {
     "data": {
      "text/plain": [
       "array([[2.4976202e-05, 5.4152233e-06, 5.8225880e-04, 9.6585286e-01,\n",
       "        1.3209192e-05, 2.1397881e-02, 2.9991302e-03, 9.2371738e-05,\n",
       "        9.0251137e-03, 6.6965058e-06]], dtype=float32)"
      ]
     },
     "execution_count": 52,
     "metadata": {},
     "output_type": "execute_result"
    }
   ],
   "source": [
    "\n",
    "cnn1.predict(X_test[[0]])"
   ]
  },
  {
   "cell_type": "code",
   "execution_count": 53,
   "id": "7d76add3",
   "metadata": {},
   "outputs": [
    {
     "data": {
      "text/plain": [
       "(10000, 32, 32, 3)"
      ]
     },
     "execution_count": 53,
     "metadata": {},
     "output_type": "execute_result"
    }
   ],
   "source": [
    "X_test.shape"
   ]
  },
  {
   "cell_type": "code",
   "execution_count": 54,
   "id": "6a7cb42b",
   "metadata": {},
   "outputs": [
    {
     "name": "stdout",
     "output_type": "stream",
     "text": [
      "313/313 [==============================] - 3s 9ms/step\n"
     ]
    }
   ],
   "source": [
    "y_pred=cnn1.predict(X_test)"
   ]
  },
  {
   "cell_type": "code",
   "execution_count": 55,
   "id": "c4b68ff6",
   "metadata": {},
   "outputs": [],
   "source": [
    "y_res= [np.argmax(i) for i in y_pred]"
   ]
  },
  {
   "cell_type": "code",
   "execution_count": 56,
   "id": "0e992784",
   "metadata": {},
   "outputs": [
    {
     "data": {
      "text/plain": [
       "[3, 8, 8, 0, 4]"
      ]
     },
     "execution_count": 56,
     "metadata": {},
     "output_type": "execute_result"
    }
   ],
   "source": [
    "y_res[:5]"
   ]
  },
  {
   "cell_type": "code",
   "execution_count": 57,
   "id": "fdfa9d84",
   "metadata": {},
   "outputs": [
    {
     "data": {
      "text/plain": [
       "array([3, 8, 8, ..., 5, 1, 7], dtype=uint8)"
      ]
     },
     "execution_count": 57,
     "metadata": {},
     "output_type": "execute_result"
    }
   ],
   "source": [
    "y_test=y_test.reshape(-1,)\n",
    "y_test"
   ]
  },
  {
   "cell_type": "code",
   "execution_count": 58,
   "id": "fedfd65f",
   "metadata": {},
   "outputs": [
    {
     "data": {
      "text/plain": [
       "array([3, 8, 8, 0, 6], dtype=uint8)"
      ]
     },
     "execution_count": 58,
     "metadata": {},
     "output_type": "execute_result"
    }
   ],
   "source": [
    "y_test[:5]"
   ]
  },
  {
   "cell_type": "code",
   "execution_count": null,
   "id": "0d8eaaa1",
   "metadata": {},
   "outputs": [],
   "source": []
  },
  {
   "cell_type": "code",
   "execution_count": 77,
   "id": "6b2aa553",
   "metadata": {},
   "outputs": [
    {
     "data": {
      "image/png": "[encoded data removed]",
      "text/plain": [
       "<Figure size 432x288 with 1 Axes>"
      ]
     },
     "metadata": {
      "needs_background": "light"
     },
     "output_type": "display_data"
    }
   ],
   "source": [
    "plot_sample(X_test,y_test,4)"
   ]
  },
  {
   "cell_type": "code",
   "execution_count": 78,
   "id": "70767690",
   "metadata": {},
   "outputs": [],
   "source": [
    "from sklearn.metrics import confusion_matrix , classification_report"
   ]
  },
  {
   "cell_type": "code",
   "execution_count": 79,
   "id": "816874ff",
   "metadata": {},
   "outputs": [
    {
     "name": "stdout",
     "output_type": "stream",
     "text": [
      "Classification Report: \n",
      "               precision    recall  f1-score   support\n",
      "\n",
      "           0       0.68      0.76      0.72      1000\n",
      "           1       0.83      0.81      0.82      1000\n",
      "           2       0.61      0.56      0.58      1000\n",
      "           3       0.55      0.49      0.52      1000\n",
      "           4       0.68      0.64      0.66      1000\n",
      "           5       0.63      0.59      0.61      1000\n",
      "           6       0.79      0.77      0.78      1000\n",
      "           7       0.71      0.80      0.75      1000\n",
      "           8       0.76      0.85      0.80      1000\n",
      "           9       0.76      0.77      0.77      1000\n",
      "\n",
      "    accuracy                           0.70     10000\n",
      "   macro avg       0.70      0.70      0.70     10000\n",
      "weighted avg       0.70      0.70      0.70     10000\n",
      "\n"
     ]
    }
   ],
   "source": [
    "print(\"Classification Report: \\n\", classification_report(y_test, y_res))"
   ]
  },
  {
   "cell_type": "code",
   "execution_count": null,
   "id": "ba0b9c15",
   "metadata": {},
   "outputs": [],
   "source": []
  }
 ],
 "metadata": {
  "kernelspec": {
   "display_name": "Python 3 (ipykernel)",
   "language": "python",
   "name": "python3"
  },
  "language_info": {
   "codemirror_mode": {
    "name": "ipython",
    "version": 3
   },
   "file_extension": ".py",
   "mimetype": "text/x-python",
   "name": "python",
   "nbconvert_exporter": "python",
   "pygments_lexer": "ipython3",
   "version": "3.10.4"
  }
 },
 "nbformat": 4,
 "nbformat_minor": 5
}
